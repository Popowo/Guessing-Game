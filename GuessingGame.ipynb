{
 "metadata": {
  "language_info": {
   "codemirror_mode": {
    "name": "ipython",
    "version": 3
   },
   "file_extension": ".py",
   "mimetype": "text/x-python",
   "name": "python",
   "nbconvert_exporter": "python",
   "pygments_lexer": "ipython3",
   "version": "3.8.6-final"
  },
  "orig_nbformat": 2,
  "kernelspec": {
   "name": "python3",
   "display_name": "Python 3.8.6 64-bit",
   "metadata": {
    "interpreter": {
     "hash": "53e42fef9754d10c9e8beda977c4f6b01d653aabb16e1fa0bed13c93810c6b46"
    }
   }
  }
 },
 "nbformat": 4,
 "nbformat_minor": 2,
 "cells": [
  {
   "source": [
    "import random;\n",
    "\n",
    "print(\"Number Guessing Game\")\n",
    "\n",
    "Number = random.randint(1,10)\n",
    "\n",
    "chances = 0 \n",
    "\n",
    "print(\"Guess a number (between 1 and 9)\")\n",
    "\n",
    "while chances < 5:\n",
    "    guess=int(input(\"Enter Your Guess: -\"))\n",
    "\n",
    "    if guess == Number:\n",
    "        print(\"Congratulations, you WON!\")\n",
    "        break\n",
    "\n",
    "\n",
    "    elif (guess < Number):\n",
    "        print(\"Your Guess Was Too Low, Guess a Number Higher Than\", guess)\n",
    "\n",
    "    else:\n",
    "        print(\"Your Guess Was Too High, Guess a Number Lower Than\", guess)\n",
    "\n",
    "    chances += 1\n",
    "\n",
    "if not chances < 5:\n",
    "    print(\"You LOSE :  The number was \", Number)\n"
   ],
   "cell_type": "code",
   "metadata": {},
   "execution_count": 1,
   "outputs": [
    {
     "output_type": "stream",
     "name": "stdout",
     "text": [
      "Number Guessing Game\n",
      "Guess a number (between 1 and 9)\n",
      "Your Guess Was Too High, Guess a Number Lower Than 5\n",
      "Your Guess Was Too High, Guess a Number Lower Than 4\n",
      "Your Guess Was Too High, Guess a Number Lower Than 3\n",
      "Congratulations, you WON!\n"
     ]
    }
   ]
  },
  {
   "cell_type": "code",
   "execution_count": null,
   "metadata": {},
   "outputs": [],
   "source": []
  }
 ]
}